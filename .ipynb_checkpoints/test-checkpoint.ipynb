{
 "cells": [
  {
   "cell_type": "code",
   "execution_count": null,
   "id": "9a392f84",
   "metadata": {},
   "outputs": [],
   "source": [
    "!python train.py --epochs 1 --train-photo-path train_photo_test --dataset shinkai_test --batch 4 --init-epochs 4 --use_sn "
   ]
  },
  {
   "cell_type": "code",
   "execution_count": null,
   "id": "24dd5019",
   "metadata": {},
   "outputs": [],
   "source": []
  },
  {
   "cell_type": "code",
   "execution_count": 2,
   "id": "5400f6a1",
   "metadata": {},
   "outputs": [],
   "source": [
    "import torch.optim as optim\n",
    "from utils.common import load_checkpoint\n",
    "from modeling.anime_gan import Generator\n",
    "lr=0.001\n",
    "G = Generator('shinkai').to('cpu')\n",
    "\n",
    "start_e = load_checkpoint(G, 'checkpoint')\n",
    "optimizer_g = optim.Adam(G.parameters(), lr=0.001, betas=(0.5, 0.999))\n",
    "for param_group in optimizer_g.param_groups:\n",
    "    param_group['lr']"
   ]
  },
  {
   "cell_type": "code",
   "execution_count": 15,
   "id": "332759a1",
   "metadata": {},
   "outputs": [
    {
     "data": {
      "text/plain": [
       "9"
      ]
     },
     "execution_count": 15,
     "metadata": {},
     "output_type": "execute_result"
    }
   ],
   "source": [
    "start_e"
   ]
  },
  {
   "cell_type": "code",
   "execution_count": null,
   "id": "b83e537d",
   "metadata": {},
   "outputs": [],
   "source": []
  }
 ],
 "metadata": {
  "kernelspec": {
   "display_name": "Python 3 (ipykernel)",
   "language": "python",
   "name": "python3"
  },
  "language_info": {
   "codemirror_mode": {
    "name": "ipython",
    "version": 3
   },
   "file_extension": ".py",
   "mimetype": "text/x-python",
   "name": "python",
   "nbconvert_exporter": "python",
   "pygments_lexer": "ipython3",
   "version": "3.9.7"
  }
 },
 "nbformat": 4,
 "nbformat_minor": 5
}
