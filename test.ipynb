{
 "cells": [
  {
   "cell_type": "code",
   "execution_count": null,
   "id": "9a392f84",
   "metadata": {
    "pycharm": {
     "name": "#%%\n"
    }
   },
   "outputs": [],
   "source": [
    "!python train.py --device 'cpu' --epochs 20 --save_interval 1 --train_photo_path train_photo --dataset shinkai --batch 4 --init_epochs 4 --use_sn "
   ]
  },
  {
   "cell_type": "code",
   "execution_count": null,
   "id": "24dd5019",
   "metadata": {
    "pycharm": {
     "name": "#%%\n"
    }
   },
   "outputs": [],
   "source": [
    "!python script/video_to_images.py --video-path ./dataset/video/city.gif"
   ]
  },
  {
   "cell_type": "code",
   "execution_count": null,
   "id": "5400f6a1",
   "metadata": {
    "pycharm": {
     "name": "#%%\n"
    }
   },
   "outputs": [],
   "source": [
    "!python script/edge_smooth.py --dataset shinkai --image-size 256"
   ]
  },
  {
   "cell_type": "code",
   "execution_count": 25,
   "id": "a8f1195f",
   "metadata": {},
   "outputs": [
    {
     "name": "stdout",
     "output_type": "stream",
     "text": [
      "Weight loaded, ready to predict\n",
      "Anime image saved to 1.png\n"
     ]
    }
   ],
   "source": [
    "!python inference_image.py --checkpoint checkpoint/generator_shinkai_24.pth --src 1.jpg --dest 1.png"
   ]
  },
  {
   "cell_type": "code",
   "execution_count": 39,
   "id": "75d022f9",
   "metadata": {},
   "outputs": [
    {
     "name": "stdout",
     "output_type": "stream",
     "text": [
      "Weight loaded, ready to predict\n",
      "Anime image saved to 1.png\n"
     ]
    }
   ],
   "source": [
    "!python inference_image.py --checkpoint checkpoint/generator_shinkai_train_24_finetune_10.pth --src 1.jpg --dest 1.png"
   ]
  },
  {
   "cell_type": "code",
   "execution_count": 28,
   "id": "636cafd3",
   "metadata": {},
   "outputs": [],
   "source": []
  },
  {
   "cell_type": "code",
   "execution_count": null,
   "id": "43774bc1",
   "metadata": {},
   "outputs": [],
   "source": []
  },
  {
   "cell_type": "code",
   "execution_count": 41,
   "id": "3c31438b",
   "metadata": {},
   "outputs": [
    {
     "name": "stderr",
     "output_type": "stream",
     "text": [
      "OpenCV: FFMPEG: tag 0x5634504d/'MP4V' is not supported with codec id 12 and format 'mp4 / MP4 (MPEG-4 Part 14)'\n",
      "OpenCV: FFMPEG: fallback to use tag 0x7634706d/'mp4v'\n"
     ]
    },
    {
     "name": "stdout",
     "output_type": "stream",
     "text": [
      "Weight loaded, ready to predict\n",
      "fps: 30.0\n",
      "processing\n",
      "processing\n",
      "processing\n",
      "processing\n",
      "processing\n",
      "processing\n",
      "processing\n",
      "processing\n",
      "processing\n",
      "Animation video saved to dataset/video/test/1.mp4\n",
      "Weight loaded, ready to predict"
     ]
    },
    {
     "name": "stderr",
     "output_type": "stream",
     "text": [
      "OpenCV: FFMPEG: tag 0x5634504d/'MP4V' is not supported with codec id 12 and format 'mp4 / MP4 (MPEG-4 Part 14)'\n",
      "OpenCV: FFMPEG: fallback to use tag 0x7634706d/'mp4v'\n"
     ]
    },
    {
     "name": "stdout",
     "output_type": "stream",
     "text": [
      "\n",
      "fps: 30.0\n",
      "0\n",
      "processing\n",
      "end: 1\n",
      "1\n",
      "end: 2\n",
      "2\n",
      "end: 3\n",
      "3\n",
      "end: 4\n",
      "4\n",
      "end: 5\n",
      "5\n",
      "end: 6\n",
      "6\n",
      "end: 7\n",
      "7\n",
      "end: 8\n",
      "8\n",
      "end: 9\n",
      "9\n",
      "end: 10\n",
      "10\n",
      "processing\n",
      "end: 11\n",
      "11\n",
      "end: 12\n",
      "12\n",
      "end: 13\n",
      "13\n",
      "end: 14\n",
      "14\n",
      "end: 15\n",
      "15\n",
      "end: 16\n",
      "16\n",
      "end: 17\n",
      "17\n",
      "end: 18\n",
      "18\n",
      "end: 19\n",
      "19\n",
      "end: 20\n",
      "20\n",
      "processing\n",
      "end: 21\n",
      "21\n",
      "end: 22\n",
      "22\n",
      "end: 23\n",
      "23\n",
      "end: 24\n",
      "24\n",
      "end: 25\n",
      "25\n",
      "end: 26\n",
      "26\n",
      "end: 27\n",
      "27\n",
      "end: 28\n",
      "28\n",
      "end: 29\n",
      "29\n",
      "end: 30\n",
      "30\n",
      "processing\n",
      "end: 31\n",
      "31\n",
      "end: 32\n",
      "32\n",
      "end: 33\n",
      "33\n",
      "end: 34\n",
      "34\n",
      "end: 35\n",
      "35\n",
      "end: 36\n",
      "36\n",
      "end: 37\n",
      "37\n",
      "end: 38\n",
      "38\n",
      "end: 39\n",
      "39\n",
      "end: 40\n",
      "40\n",
      "processing\n",
      "end: 41\n",
      "41\n",
      "end: 42\n",
      "42\n",
      "end: 43\n",
      "43\n",
      "end: 44\n",
      "44\n",
      "end: 45\n",
      "45\n",
      "end: 46\n",
      "46\n",
      "end: 47\n",
      "47\n",
      "end: 48\n",
      "48\n",
      "end: 49\n",
      "49\n",
      "end: 50\n",
      "50\n",
      "processing\n",
      "end: 51\n",
      "51\n",
      "end: 52\n",
      "52\n",
      "end: 53\n",
      "53\n",
      "end: 54\n",
      "54\n",
      "end: 55\n",
      "55\n",
      "end: 56\n",
      "56\n",
      "end: 57\n",
      "57\n",
      "end: 58\n",
      "58\n",
      "end: 59\n",
      "59\n",
      "end: 60\n",
      "60\n",
      "processing\n",
      "end: 61\n",
      "61\n",
      "end: 62\n",
      "62\n",
      "end: 63\n",
      "63\n",
      "end: 64\n",
      "64\n",
      "end: 65\n",
      "65\n",
      "end: 66\n",
      "66\n",
      "end: 67\n",
      "67\n",
      "end: 68\n",
      "68\n",
      "end: 69\n",
      "69\n",
      "end: 70\n",
      "70\n",
      "processing\n",
      "end: 71\n",
      "71\n",
      "end: 72\n",
      "72\n",
      "end: 73\n",
      "73\n",
      "end: 74\n",
      "74\n",
      "end: 75\n",
      "75\n",
      "end: 76\n",
      "76\n",
      "end: 77\n",
      "77\n",
      "end: 78\n",
      "78\n",
      "end: 79\n",
      "79\n",
      "end: 80\n",
      "80\n",
      "processing\n",
      "end: 81\n",
      "81\n",
      "end: 82\n",
      "82\n",
      "end: 83\n",
      "83\n",
      "end: 84\n",
      "84\n",
      "end: 85\n",
      "85\n",
      "end: 86\n",
      "86\n",
      "end: 87\n",
      "87\n",
      "end: 88\n",
      "88\n",
      "end: 89\n",
      "89\n",
      "end: 90\n",
      "90\n",
      "Animation video saved to dataset/video/test/1.mp4\n"
     ]
    }
   ],
   "source": [
    "!python inference_video.py --checkpoint checkpoint/generator_shinkai_24.pth --src dataset/video/test1.mp4 --dest dataset/video/test/1.mp4"
   ]
  },
  {
   "cell_type": "code",
   "execution_count": null,
   "id": "736ccf6d",
   "metadata": {},
   "outputs": [],
   "source": []
  },
  {
   "cell_type": "code",
   "execution_count": null,
   "id": "3a1a136e",
   "metadata": {},
   "outputs": [],
   "source": []
  },
  {
   "cell_type": "code",
   "execution_count": 10,
   "id": "93a248f0",
   "metadata": {},
   "outputs": [],
   "source": [
    "import argparse\n",
    "parser = argparse.ArgumentParser()\n",
    "parser.add_argument('--dataset', type=str, default='shinkai')\n",
    "parser.add_argument('--data-dir', type=str, default='dataset')\n",
    "parser.add_argument('--train_photo_path', type=str, default='train_photo')\n",
    "parser.add_argument('--epochs', type=int, default=100)\n",
    "parser.add_argument('--init_epochs', type=int, default=5)\n",
    "parser.add_argument('--batch-size', type=int, default=6)\n",
    "parser.add_argument('--checkpoint_dir', type=str, default='checkpoint')\n",
    "parser.add_argument('--save_image_dir', type=str, default='dataset/predict_photo')\n",
    "parser.add_argument('--gan_loss', type=str, default='lsgan', help='lsgan / hinge / bce')\n",
    "parser.add_argument('--device', type=str, default='cpu')\n",
    "#stor_true为如果命令行有该参数，则该参数设置为True,否则设置为False\n",
    "parser.add_argument('--use_sn', action='store_true')\n",
    "parser.add_argument('--save_interval', type=int, default=5)\n",
    "parser.add_argument('--debug_samples', type=int, default=0)\n",
    "parser.add_argument('--lr_g', type=float, default=2e-4)\n",
    "parser.add_argument('--lr_d', type=float, default=4e-4)\n",
    "parser.add_argument('--init_lr', type=float, default=1e-3)\n",
    "parser.add_argument('--wadvg', type=float, default=10.0, help='Adversarial loss weight for G')\n",
    "parser.add_argument('--wadvd', type=float, default=10.0, help='Adversarial loss weight for D')\n",
    "parser.add_argument('--wcon', type=float, default=1.5, help='Content loss weight')\n",
    "parser.add_argument('--wgra', type=float, default=3.0, help='Gram loss weight')\n",
    "parser.add_argument('--wcol', type=float, default=30.0, help='Color loss weight')\n",
    "parser.add_argument('--d_layers', type=int, default=3, help='Discriminator conv layers')\n",
    "parser.add_argument('--d_noise', action='store_true')\n",
    "args = parser.parse_args(args=[])"
   ]
  },
  {
   "cell_type": "code",
   "execution_count": 11,
   "id": "f4b52666",
   "metadata": {},
   "outputs": [
    {
     "data": {
      "text/plain": [
       "24"
      ]
     },
     "execution_count": 11,
     "metadata": {},
     "output_type": "execute_result"
    }
   ],
   "source": [
    "from utils.common import load_checkpoint,load_weight\n",
    "from modeling.anime_ganv2 import Generator\n",
    "from modeling.anime_ganv2 import Discriminator\n",
    "import os\n",
    "def load_checkpoint(model, checkpoint_dir, posfix=''):\n",
    "    path = os.path.join(checkpoint_dir, f'{model.name}{posfix}.pth')\n",
    "    return load_weight(model, path)\n",
    "G = Generator('shinkai')\n",
    "D = Discriminator(args).to(args.device)\n",
    "\n",
    "start_e = load_checkpoint(G, 'checkpoint')\n",
    "test = load_checkpoint(D, 'checkpoint')\n",
    "start_e"
   ]
  },
  {
   "cell_type": "code",
   "execution_count": 31,
   "id": "d76ff06e",
   "metadata": {
    "scrolled": true
   },
   "outputs": [
    {
     "data": {
      "text/plain": [
       "10"
      ]
     },
     "execution_count": 31,
     "metadata": {},
     "output_type": "execute_result"
    }
   ],
   "source": [
    "test"
   ]
  },
  {
   "cell_type": "code",
   "execution_count": null,
   "id": "65f782e5",
   "metadata": {},
   "outputs": [],
   "source": []
  },
  {
   "cell_type": "code",
   "execution_count": 4,
   "id": "d53000e2",
   "metadata": {},
   "outputs": [],
   "source": []
  },
  {
   "cell_type": "code",
   "execution_count": 10,
   "id": "f44a905b",
   "metadata": {},
   "outputs": [],
   "source": []
  },
  {
   "cell_type": "code",
   "execution_count": 18,
   "id": "92479cac",
   "metadata": {},
   "outputs": [],
   "source": []
  },
  {
   "cell_type": "code",
   "execution_count": null,
   "id": "7efdf780",
   "metadata": {},
   "outputs": [],
   "source": []
  },
  {
   "cell_type": "markdown",
   "id": "05fd2397",
   "metadata": {},
   "source": [
    "# kaggle"
   ]
  },
  {
   "cell_type": "code",
   "execution_count": null,
   "id": "2f4834fa",
   "metadata": {},
   "outputs": [],
   "source": [
    "!git clone https://github.com/lyh792127928/pytorch-animegan.git"
   ]
  },
  {
   "cell_type": "code",
   "execution_count": null,
   "id": "0e028c2c",
   "metadata": {},
   "outputs": [],
   "source": [
    "!python pytorch-animegan/train.py --device 'cpu' --epochs 20 --save_interval 1 --checkpoint_dir pytorch-animegan/checkpoint --train_photo_path train_photo --data-dir pytorch-animegan/dataset --dataset shinkai --batch 4 --init_epochs 4 --use_sn "
   ]
  },
  {
   "cell_type": "code",
   "execution_count": null,
   "id": "79e939a1",
   "metadata": {},
   "outputs": [],
   "source": [
    "import os\n",
    "import zipfile\n",
    "import datetime\n",
    "\n",
    "def file2zip(packagePath, zipPath):\n",
    "    '''\n",
    "  :param packagePath: 文件夹路径\n",
    "  :param zipPath: 压缩包路径\n",
    "  :return:\n",
    "  '''\n",
    "    zip = zipfile.ZipFile(zipPath, 'w', zipfile.ZIP_DEFLATED)\n",
    "    for path, dirNames, fileNames in os.walk(packagePath):\n",
    "        fpath = path.replace(packagePath, '')\n",
    "        for name in fileNames:\n",
    "            fullName = os.path.join(path, name)\n",
    "            name = fpath + '\\\\' + name\n",
    "            zip.write(fullName, name)\n",
    "    zip.close()\n",
    "\n",
    "\n",
    "if __name__ == \"__main__\":\n",
    "    # 文件夹路径\n",
    "    packagePath = '/kaggle/working/pytorch-animegan/checkpoint'\n",
    "    zipPath = '/kaggle/working/output.zip'\n",
    "    if os.path.exists(zipPath):\n",
    "        os.remove(zipPath)\n",
    "    file2zip(packagePath, zipPath)\n",
    "    print(\"打包完成\")\n",
    "    print(datetime.datetime.utcnow())"
   ]
  },
  {
   "cell_type": "code",
   "execution_count": null,
   "id": "9f5c36b1",
   "metadata": {},
   "outputs": [],
   "source": []
  },
  {
   "cell_type": "code",
   "execution_count": null,
   "id": "b2774b21",
   "metadata": {},
   "outputs": [],
   "source": []
  },
  {
   "cell_type": "code",
   "execution_count": 3,
   "id": "aa158e38",
   "metadata": {},
   "outputs": [],
   "source": []
  },
  {
   "cell_type": "code",
   "execution_count": 18,
   "id": "31864541",
   "metadata": {},
   "outputs": [],
   "source": []
  },
  {
   "cell_type": "code",
   "execution_count": null,
   "id": "e8fbfb96",
   "metadata": {},
   "outputs": [],
   "source": []
  },
  {
   "cell_type": "code",
   "execution_count": null,
   "id": "c5136305",
   "metadata": {},
   "outputs": [],
   "source": [
    "import os\n",
    "import shutil\n",
    "def file(p):\n",
    "    p=p\n",
    "    z=os.listdir(p)\n",
    "    for i in z:\n",
    "        \n",
    "        if not (os.path.isfile(os.path.join(p,i))):\n",
    "            pp=os.path.join(p,i)\n",
    "            file(pp)\n",
    "        else:\n",
    "            zz=os.listdir(p)\n",
    "            for k in zz:\n",
    "                paa.append(os.path.join(p,k))\n",
    "if __name__ == '__main__':\n",
    "    p = 'dataset/human_face/origin'\n",
    "    n_p = 'dataset/human_face/style'\n",
    "    paa = []\n",
    "    file(p)\n",
    "    \n",
    "    for f in paa:\n",
    "        try:\n",
    "            shutil.move(f,n_p)\n",
    "        except:\n",
    "            continue\n",
    "    print('移动完成')"
   ]
  },
  {
   "cell_type": "code",
   "execution_count": 3,
   "id": "5c32c303",
   "metadata": {},
   "outputs": [],
   "source": [
    "import os\n",
    "p = 'dataset/human_face/origin'\n",
    "n_p = 'dataset/human_face/style'\n",
    "paa = []\n",
    "z=os.listdir(p)"
   ]
  },
  {
   "cell_type": "code",
   "execution_count": null,
   "id": "160049be",
   "metadata": {},
   "outputs": [],
   "source": []
  },
  {
   "cell_type": "code",
   "execution_count": null,
   "id": "3a111cd9",
   "metadata": {},
   "outputs": [],
   "source": []
  },
  {
   "cell_type": "code",
   "execution_count": null,
   "id": "8b170a54",
   "metadata": {},
   "outputs": [],
   "source": []
  },
  {
   "cell_type": "code",
   "execution_count": null,
   "id": "b691d306",
   "metadata": {},
   "outputs": [],
   "source": []
  },
  {
   "cell_type": "code",
   "execution_count": null,
   "id": "722bed89",
   "metadata": {},
   "outputs": [],
   "source": []
  }
 ],
 "metadata": {
  "kernelspec": {
   "display_name": "Python 3 (ipykernel)",
   "language": "python",
   "name": "python3"
  },
  "language_info": {
   "codemirror_mode": {
    "name": "ipython",
    "version": 3
   },
   "file_extension": ".py",
   "mimetype": "text/x-python",
   "name": "python",
   "nbconvert_exporter": "python",
   "pygments_lexer": "ipython3",
   "version": "3.9.7"
  }
 },
 "nbformat": 4,
 "nbformat_minor": 5
}
