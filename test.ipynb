{
 "cells": [
  {
   "cell_type": "code",
   "execution_count": 1,
   "id": "e22f7122",
   "metadata": {},
   "outputs": [],
   "source": [
    "from multiprocessing import cpu_count"
   ]
  },
  {
   "cell_type": "code",
   "execution_count": 2,
   "id": "a496000e",
   "metadata": {},
   "outputs": [
    {
     "data": {
      "text/plain": [
       "8"
      ]
     },
     "execution_count": 2,
     "metadata": {},
     "output_type": "execute_result"
    }
   ],
   "source": [
    "cpu_count()"
   ]
  },
  {
   "cell_type": "code",
   "execution_count": 4,
   "id": "d3f2c62c",
   "metadata": {},
   "outputs": [
    {
     "name": "stdout",
     "output_type": "stream",
     "text": [
      "# ==== Train Config ==== #\n",
      "dataset shinkai\n",
      "data_dir /content/dataset\n",
      "epochs 100\n",
      "init_epochs 4\n",
      "batch_size 6\n",
      "checkpoint_dir checkpoint_test"
     ]
    },
    {
     "name": "stderr",
     "output_type": "stream",
     "text": [
      "Traceback (most recent call last):\n",
      "  File \"E:\\复旦MSE\\商务智能\\cartoonize\\pytorchanimegan\\train.py\", line 248, in <module>\n",
      "    main(args)\n",
      "  File \"E:\\复旦MSE\\商务智能\\cartoonize\\pytorchanimegan\\train.py\", line 112, in main\n",
      "    check_params(args)\n",
      "  File \"E:\\复旦MSE\\商务智能\\cartoonize\\pytorchanimegan\\train.py\", line 67, in check_params\n",
      "    raise FileNotFoundError(f'Dataset not found {data_path}')\n",
      "FileNotFoundError: Dataset not found /content/dataset\\shinkai\n"
     ]
    },
    {
     "name": "stdout",
     "output_type": "stream",
     "text": [
      "\n",
      "save_image_dir save_dir\n",
      "gan_loss lsgan\n",
      "resume GD\n",
      "device cpu\n",
      "use_sn True\n",
      "save_interval 1\n",
      "debug_samples 0\n",
      "lr_g 2e-05\n",
      "lr_d 4e-05\n",
      "init_lr 0.0001\n",
      "wadvg 10.0\n",
      "wadvd 10.0\n",
      "wcon 1.5\n",
      "wgra 3.0\n",
      "wcol 30.0\n",
      "d_layers 3\n",
      "d_noise False\n",
      "==========================\n"
     ]
    }
   ],
   "source": [
    "!python train.py --epoch 100 --dataset shinkai --batch 6 --init-epochs 4 --checkpoint-dir checkpoint_test --save-image-dir save_dir --save-interval 1 --gan-loss lsgan --init-lr 0.0001 --lr-g 0.00002 --lr-d 0.00004 --wadvd 10.0 --wadvg 10.0 --wcon 1.5 --wgra 3.0 --wcol 30.0 --resume GD --use_sn "
   ]
  },
  {
   "cell_type": "code",
   "execution_count": null,
   "id": "0b37b9ed",
   "metadata": {},
   "outputs": [],
   "source": []
  }
 ],
 "metadata": {
  "kernelspec": {
   "display_name": "Python 3 (ipykernel)",
   "language": "python",
   "name": "python3"
  },
  "language_info": {
   "codemirror_mode": {
    "name": "ipython",
    "version": 3
   },
   "file_extension": ".py",
   "mimetype": "text/x-python",
   "name": "python",
   "nbconvert_exporter": "python",
   "pygments_lexer": "ipython3",
   "version": "3.9.7"
  }
 },
 "nbformat": 4,
 "nbformat_minor": 5
}
