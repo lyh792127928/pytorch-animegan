{
 "cells": [
  {
   "cell_type": "markdown",
   "id": "06f7e4d7",
   "metadata": {},
   "source": [
    "# 各个脚本案例"
   ]
  },
  {
   "cell_type": "code",
   "execution_count": null,
   "id": "24dd5019",
   "metadata": {
    "pycharm": {
     "name": "#%%\n"
    }
   },
   "outputs": [],
   "source": [
    "!python script/video_to_images.py --video-path ./dataset/video/city.gif"
   ]
  },
  {
   "cell_type": "code",
   "execution_count": null,
   "id": "5400f6a1",
   "metadata": {
    "pycharm": {
     "name": "#%%\n"
    }
   },
   "outputs": [],
   "source": [
    "!python script/edge_smooth.py --dataset shinkai --image-size 256"
   ]
  },
  {
   "cell_type": "code",
   "execution_count": 85,
   "id": "a8f1195f",
   "metadata": {},
   "outputs": [
    {
     "name": "stdout",
     "output_type": "stream",
     "text": [
      "Weight loaded, ready to predict\n",
      "Anime image saved to 1.png\n"
     ]
    }
   ],
   "source": [
    "!python inference_image.py --checkpoint checkpoint/generator_shinkai_24.pth --src sample/1.jpg --dest 1.png"
   ]
  },
  {
   "cell_type": "code",
   "execution_count": null,
   "id": "f4b636ba",
   "metadata": {},
   "outputs": [],
   "source": [
    "!python inference_image.py --checkpoint checkpoint/generator_shinkai_train_24_finetune_5.pth --src sample/mountain.jpg --dest 1.png"
   ]
  },
  {
   "cell_type": "code",
   "execution_count": 5,
   "id": "bdcea012",
   "metadata": {},
   "outputs": [
    {
     "name": "stdout",
     "output_type": "stream",
     "text": [
      "Weight loaded, ready to predict\n",
      "Anime image saved to 1.png\n"
     ]
    }
   ],
   "source": [
    "!python inference_image.py --checkpoint checkpoint/freeze_d_face/generator_shinkai_train_24_finetune_10.pth --src sample/city.jpg --dest 1.png"
   ]
  },
  {
   "cell_type": "code",
   "execution_count": 70,
   "id": "e8977426",
   "metadata": {},
   "outputs": [
    {
     "name": "stdout",
     "output_type": "stream",
     "text": [
      "Weight loaded, ready to predict\n",
      "288\n",
      "160\n",
      "Animation video saved to dataset/video/test/1.mp4\n"
     ]
    }
   ],
   "source": [
    "!python inference_video.py --checkpoint checkpoint/generator_shinkai_24.pth --src dataset/video/city.gif --dest dataset/video/test/1.mp4"
   ]
  },
  {
   "cell_type": "code",
   "execution_count": null,
   "id": "dc435ac7",
   "metadata": {
    "scrolled": true
   },
   "outputs": [],
   "source": []
  },
  {
   "cell_type": "markdown",
   "id": "1b458b93",
   "metadata": {},
   "source": [
    "# 查看checkpoint训练批数"
   ]
  },
  {
   "cell_type": "code",
   "execution_count": 88,
   "id": "93a248f0",
   "metadata": {},
   "outputs": [],
   "source": [
    "import argparse\n",
    "parser = argparse.ArgumentParser()\n",
    "parser.add_argument('--dataset', type=str, default='shinkai')\n",
    "parser.add_argument('--device', type=str, default='cpu')\n",
    "args = parser.parse_args(args=[])"
   ]
  },
  {
   "cell_type": "code",
   "execution_count": 89,
   "id": "f4b52666",
   "metadata": {},
   "outputs": [
    {
     "data": {
      "text/plain": [
       "24"
      ]
     },
     "execution_count": 89,
     "metadata": {},
     "output_type": "execute_result"
    }
   ],
   "source": [
    "from utils.common import load_checkpoint,load_weight\n",
    "from modeling.anime_ganv2 import Generator\n",
    "from modeling.anime_ganv2 import Discriminator\n",
    "import os\n",
    "def load_checkpoint(model, checkpoint_dir, posfix=''):\n",
    "    path = os.path.join(checkpoint_dir, f'{model.name}{posfix}.pth')\n",
    "    return load_weight(model, path)\n",
    "G = Generator('shinkai')\n",
    "D = Discriminator(args).to(args.device)\n",
    "\n",
    "start_e = load_checkpoint(G, 'checkpoint')\n",
    "test = load_checkpoint(D, 'checkpoint')\n",
    "start_e"
   ]
  },
  {
   "cell_type": "code",
   "execution_count": null,
   "id": "65f782e5",
   "metadata": {},
   "outputs": [],
   "source": []
  },
  {
   "cell_type": "markdown",
   "id": "05fd2397",
   "metadata": {},
   "source": [
    "# kaggle"
   ]
  },
  {
   "cell_type": "code",
   "execution_count": null,
   "id": "2f4834fa",
   "metadata": {},
   "outputs": [],
   "source": [
    "!git clone https://github.com/lyh792127928/pytorch-animegan.git"
   ]
  },
  {
   "cell_type": "code",
   "execution_count": null,
   "id": "0e028c2c",
   "metadata": {},
   "outputs": [],
   "source": [
    "!python pytorch-animegan/train.py --device 'cpu' --epochs 20 --save_interval 1 --checkpoint_dir pytorch-animegan/checkpoint --train_photo_path train_photo --data-dir pytorch-animegan/dataset --dataset shinkai --batch 4 --init_epochs 4 --use_sn "
   ]
  },
  {
   "cell_type": "code",
   "execution_count": null,
   "id": "79e939a1",
   "metadata": {},
   "outputs": [],
   "source": [
    "import os\n",
    "import zipfile\n",
    "import datetime\n",
    "\n",
    "def file2zip(packagePath, zipPath):\n",
    "    '''\n",
    "  :param packagePath: 文件夹路径\n",
    "  :param zipPath: 压缩包路径\n",
    "  :return:\n",
    "  '''\n",
    "    zip = zipfile.ZipFile(zipPath, 'w', zipfile.ZIP_DEFLATED)\n",
    "    for path, dirNames, fileNames in os.walk(packagePath):\n",
    "        fpath = path.replace(packagePath, '')\n",
    "        for name in fileNames:\n",
    "            fullName = os.path.join(path, name)\n",
    "            name = fpath + '\\\\' + name\n",
    "            zip.write(fullName, name)\n",
    "    zip.close()\n",
    "\n",
    "\n",
    "if __name__ == \"__main__\":\n",
    "    # 文件夹路径\n",
    "    packagePath = '/kaggle/working/pytorch-animegan/checkpoint'\n",
    "    zipPath = '/kaggle/working/output.zip'\n",
    "    if os.path.exists(zipPath):\n",
    "        os.remove(zipPath)\n",
    "    file2zip(packagePath, zipPath)\n",
    "    print(\"打包完成\")\n",
    "    print(datetime.datetime.utcnow())"
   ]
  },
  {
   "cell_type": "code",
   "execution_count": null,
   "id": "9f5c36b1",
   "metadata": {},
   "outputs": [],
   "source": []
  },
  {
   "cell_type": "markdown",
   "id": "28923a19",
   "metadata": {},
   "source": [
    "# 移动文件，用于图片批量移动"
   ]
  },
  {
   "cell_type": "code",
   "execution_count": null,
   "id": "c5136305",
   "metadata": {},
   "outputs": [],
   "source": [
    "import os\n",
    "import shutil\n",
    "def file(p):\n",
    "    p=p\n",
    "    z=os.listdir(p)\n",
    "    for i in z:\n",
    "        \n",
    "        if not (os.path.isfile(os.path.join(p,i))):\n",
    "            pp=os.path.join(p,i)\n",
    "            file(pp)\n",
    "        else:\n",
    "            zz=os.listdir(p)\n",
    "            for k in zz:\n",
    "                paa.append(os.path.join(p,k))\n",
    "if __name__ == '__main__':\n",
    "    p = 'dataset/human_face/origin'\n",
    "    n_p = 'dataset/human_face/style'\n",
    "    paa = []\n",
    "    file(p)\n",
    "    \n",
    "    for f in paa:\n",
    "        try:\n",
    "            shutil.move(f,n_p)\n",
    "        except:\n",
    "            continue\n",
    "    print('移动完成')"
   ]
  },
  {
   "cell_type": "code",
   "execution_count": 3,
   "id": "5c32c303",
   "metadata": {},
   "outputs": [],
   "source": []
  },
  {
   "cell_type": "code",
   "execution_count": 24,
   "id": "bded9cbe",
   "metadata": {},
   "outputs": [
    {
     "data": {
      "text/plain": [
       "[3, 256, 256]"
      ]
     },
     "execution_count": 24,
     "metadata": {},
     "output_type": "execute_result"
    }
   ],
   "source": [
    "x = torch.randn(1,3,256,256)\n",
    "#x.size()[1:]\n",
    "torch.tensor(x.size()[1:]).tolist()"
   ]
  },
  {
   "cell_type": "code",
   "execution_count": null,
   "id": "5a53ef9b",
   "metadata": {},
   "outputs": [],
   "source": []
  },
  {
   "cell_type": "code",
   "execution_count": null,
   "id": "9574c0b6",
   "metadata": {},
   "outputs": [],
   "source": []
  },
  {
   "cell_type": "code",
   "execution_count": null,
   "id": "5bea637d",
   "metadata": {},
   "outputs": [],
   "source": []
  },
  {
   "cell_type": "code",
   "execution_count": null,
   "id": "57f26ade",
   "metadata": {},
   "outputs": [],
   "source": []
  },
  {
   "cell_type": "code",
   "execution_count": null,
   "id": "234dfb21",
   "metadata": {},
   "outputs": [],
   "source": []
  },
  {
   "cell_type": "code",
   "execution_count": 2,
   "id": "9045f74d",
   "metadata": {},
   "outputs": [
    {
     "data": {
      "text/plain": [
       "24"
      ]
     },
     "execution_count": 2,
     "metadata": {},
     "output_type": "execute_result"
    }
   ],
   "source": [
    "from utils.common import load_weight\n",
    "from modeling.anime_ganv2 import Generator\n",
    "import torch\n",
    "torch_model = Generator()\n",
    "load_weight(torch_model,'checkpoint/generator_shinkai.pth')"
   ]
  },
  {
   "cell_type": "code",
   "execution_count": 6,
   "id": "c6ed16a9",
   "metadata": {
    "scrolled": false
   },
   "outputs": [
    {
     "name": "stdout",
     "output_type": "stream",
     "text": [
      "==> Exporting model to ONNX format at 'checkpoint/animegan.onnx'\n"
     ]
    }
   ],
   "source": [
    "output_onnx = 'checkpoint/animegan.onnx'\n",
    "print(\"==> Exporting model to ONNX format at '{}'\".format(output_onnx))\n",
    "input_names = [\"input0\"]\n",
    "output_names = [\"output0\"]\n",
    "# 转ONNX 动态输入转换代码\n",
    "dynamic_axes= {'input0':[0, 2, 3], 'output0':[0,2,3]} #数字0，1等是指张量的维度，表示哪个维度需要动态输入\n",
    "inputs = torch.randn(1, 3, 256, 256)\n",
    "onnx_model = torch.onnx.export(torch_model, inputs, output_onnx,input_names=input_names, output_names=output_names,opset_version=11, dynamic_axes=dynamic_axes)"
   ]
  },
  {
   "cell_type": "code",
   "execution_count": null,
   "id": "cd1e298f",
   "metadata": {},
   "outputs": [],
   "source": []
  },
  {
   "cell_type": "code",
   "execution_count": null,
   "id": "0be276fc",
   "metadata": {},
   "outputs": [],
   "source": []
  },
  {
   "cell_type": "code",
   "execution_count": null,
   "id": "eb448dea",
   "metadata": {},
   "outputs": [],
   "source": []
  }
 ],
 "metadata": {
  "kernelspec": {
   "display_name": "Python 3 (ipykernel)",
   "language": "python",
   "name": "python3"
  },
  "language_info": {
   "codemirror_mode": {
    "name": "ipython",
    "version": 3
   },
   "file_extension": ".py",
   "mimetype": "text/x-python",
   "name": "python",
   "nbconvert_exporter": "python",
   "pygments_lexer": "ipython3",
   "version": "3.9.7"
  }
 },
 "nbformat": 4,
 "nbformat_minor": 5
}
